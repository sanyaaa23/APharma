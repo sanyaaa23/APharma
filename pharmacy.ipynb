{
  "metadata": {
    "kernelspec": {
      "name": "python",
      "display_name": "Python (Pyodide)",
      "language": "python"
    },
    "language_info": {
      "codemirror_mode": {
        "name": "python",
        "version": 3
      },
      "file_extension": ".py",
      "mimetype": "text/x-python",
      "name": "python",
      "nbconvert_exporter": "python",
      "pygments_lexer": "ipython3",
      "version": "3.8"
    }
  },
  "nbformat_minor": 5,
  "nbformat": 4,
  "cells": [
    {
      "id": "cc4c06bf-3955-46ae-b18f-786019b01bfe",
      "cell_type": "code",
      "source": "import pandas as pd\nimport matplotlib.pyplot as plt\nimport seaborn as sns\nimport numpy as np\nfrom sklearn.linear_model import LogisticRegression\nfrom sklearn.tree import DecisionTreeClassifier as DTC\nfrom sklearn.ensemble import RandomForestClassifier as RFC\nfrom sklearn.metrics import classification_report \nfrom sklearn.metrics import confusion_matrix \nfrom sklearn.model_selection import train_test_split \nfrom sklearn.metrics import r2_score,accuracy_score\nfrom sklearn.svm import SVC\nfrom sklearn.naive_bayes import GaussianNB\nfrom sklearn.preprocessing import LabelEncoder",
      "metadata": {
        "trusted": true
      },
      "outputs": [],
      "execution_count": 12
    },
    {
      "id": "561bd1ce-3e25-4f1a-9609-9e4d86246a57",
      "cell_type": "code",
      "source": "df=pd.read_csv('diseases.csv')\ndf.head()",
      "metadata": {
        "trusted": true
      },
      "outputs": [
        {
          "execution_count": 3,
          "output_type": "execute_result",
          "data": {
            "text/plain": "   itching  skin_rash  nodal_skin_eruptions  continuous_sneezing  shivering  \\\n0        0          0                     0                    0          0   \n1        0          0                     0                    0          0   \n2        1          1                     0                    0          0   \n3        0          0                     0                    0          0   \n4        0          0                     0                    0          0   \n\n   chills  joint_pain  stomach_pain  acidity  ulcers_on_tongue  ...  \\\n0       0           0             0        0                 0  ...   \n1       0           0             0        0                 0  ...   \n2       0           0             1        0                 0  ...   \n3       0           0             0        0                 0  ...   \n4       0           1             0        0                 0  ...   \n\n   blackheads  scurring  skin_peeling  silver_like_dusting  \\\n0           0         0             0                    0   \n1           0         0             0                    0   \n2           0         0             0                    0   \n3           0         0             0                    0   \n4           0         0             0                    0   \n\n   small_dents_in_nails  inflammatory_nails  blister  red_sore_around_nose  \\\n0                     0                   0        0                     0   \n1                     0                   0        0                     0   \n2                     0                   0        0                     0   \n3                     0                   0        0                     0   \n4                     0                   0        0                     0   \n\n   yellow_crust_ooze                     prognosis  \n0                  0  Dimorphic hemmorhoids(piles)  \n1                  0       Urinary tract infection  \n2                  0                 Drug Reaction  \n3                  0                Varicose veins  \n4                  0               Osteoarthristis  \n\n[5 rows x 133 columns]",
            "text/html": "<div>\n<style scoped>\n    .dataframe tbody tr th:only-of-type {\n        vertical-align: middle;\n    }\n\n    .dataframe tbody tr th {\n        vertical-align: top;\n    }\n\n    .dataframe thead th {\n        text-align: right;\n    }\n</style>\n<table border=\"1\" class=\"dataframe\">\n  <thead>\n    <tr style=\"text-align: right;\">\n      <th></th>\n      <th>itching</th>\n      <th>skin_rash</th>\n      <th>nodal_skin_eruptions</th>\n      <th>continuous_sneezing</th>\n      <th>shivering</th>\n      <th>chills</th>\n      <th>joint_pain</th>\n      <th>stomach_pain</th>\n      <th>acidity</th>\n      <th>ulcers_on_tongue</th>\n      <th>...</th>\n      <th>blackheads</th>\n      <th>scurring</th>\n      <th>skin_peeling</th>\n      <th>silver_like_dusting</th>\n      <th>small_dents_in_nails</th>\n      <th>inflammatory_nails</th>\n      <th>blister</th>\n      <th>red_sore_around_nose</th>\n      <th>yellow_crust_ooze</th>\n      <th>prognosis</th>\n    </tr>\n  </thead>\n  <tbody>\n    <tr>\n      <th>0</th>\n      <td>0</td>\n      <td>0</td>\n      <td>0</td>\n      <td>0</td>\n      <td>0</td>\n      <td>0</td>\n      <td>0</td>\n      <td>0</td>\n      <td>0</td>\n      <td>0</td>\n      <td>...</td>\n      <td>0</td>\n      <td>0</td>\n      <td>0</td>\n      <td>0</td>\n      <td>0</td>\n      <td>0</td>\n      <td>0</td>\n      <td>0</td>\n      <td>0</td>\n      <td>Dimorphic hemmorhoids(piles)</td>\n    </tr>\n    <tr>\n      <th>1</th>\n      <td>0</td>\n      <td>0</td>\n      <td>0</td>\n      <td>0</td>\n      <td>0</td>\n      <td>0</td>\n      <td>0</td>\n      <td>0</td>\n      <td>0</td>\n      <td>0</td>\n      <td>...</td>\n      <td>0</td>\n      <td>0</td>\n      <td>0</td>\n      <td>0</td>\n      <td>0</td>\n      <td>0</td>\n      <td>0</td>\n      <td>0</td>\n      <td>0</td>\n      <td>Urinary tract infection</td>\n    </tr>\n    <tr>\n      <th>2</th>\n      <td>1</td>\n      <td>1</td>\n      <td>0</td>\n      <td>0</td>\n      <td>0</td>\n      <td>0</td>\n      <td>0</td>\n      <td>1</td>\n      <td>0</td>\n      <td>0</td>\n      <td>...</td>\n      <td>0</td>\n      <td>0</td>\n      <td>0</td>\n      <td>0</td>\n      <td>0</td>\n      <td>0</td>\n      <td>0</td>\n      <td>0</td>\n      <td>0</td>\n      <td>Drug Reaction</td>\n    </tr>\n    <tr>\n      <th>3</th>\n      <td>0</td>\n      <td>0</td>\n      <td>0</td>\n      <td>0</td>\n      <td>0</td>\n      <td>0</td>\n      <td>0</td>\n      <td>0</td>\n      <td>0</td>\n      <td>0</td>\n      <td>...</td>\n      <td>0</td>\n      <td>0</td>\n      <td>0</td>\n      <td>0</td>\n      <td>0</td>\n      <td>0</td>\n      <td>0</td>\n      <td>0</td>\n      <td>0</td>\n      <td>Varicose veins</td>\n    </tr>\n    <tr>\n      <th>4</th>\n      <td>0</td>\n      <td>0</td>\n      <td>0</td>\n      <td>0</td>\n      <td>0</td>\n      <td>0</td>\n      <td>1</td>\n      <td>0</td>\n      <td>0</td>\n      <td>0</td>\n      <td>...</td>\n      <td>0</td>\n      <td>0</td>\n      <td>0</td>\n      <td>0</td>\n      <td>0</td>\n      <td>0</td>\n      <td>0</td>\n      <td>0</td>\n      <td>0</td>\n      <td>Osteoarthristis</td>\n    </tr>\n  </tbody>\n</table>\n<p>5 rows × 133 columns</p>\n</div>"
          },
          "metadata": {}
        }
      ],
      "execution_count": 3
    },
    {
      "id": "f150d93a-db19-4e0c-87fe-34d87590c19c",
      "cell_type": "code",
      "source": "df.describe()",
      "metadata": {
        "trusted": true
      },
      "outputs": [
        {
          "execution_count": 4,
          "output_type": "execute_result",
          "data": {
            "text/plain": "           itching    skin_rash  nodal_skin_eruptions  continuous_sneezing  \\\ncount  4962.000000  4962.000000           4962.000000          4962.000000   \nmean      0.138049     0.160016              0.021967             0.045143   \nstd       0.344986     0.366658              0.146590             0.207639   \nmin       0.000000     0.000000              0.000000             0.000000   \n25%       0.000000     0.000000              0.000000             0.000000   \n50%       0.000000     0.000000              0.000000             0.000000   \n75%       0.000000     0.000000              0.000000             0.000000   \nmax       1.000000     1.000000              1.000000             1.000000   \n\n         shivering       chills   joint_pain  stomach_pain      acidity  \\\ncount  4962.000000  4962.000000  4962.000000   4962.000000  4962.000000   \nmean      0.021967     0.162233     0.139057      0.045143     0.045143   \nstd       0.146590     0.368702     0.346041      0.207639     0.207639   \nmin       0.000000     0.000000     0.000000      0.000000     0.000000   \n25%       0.000000     0.000000     0.000000      0.000000     0.000000   \n50%       0.000000     0.000000     0.000000      0.000000     0.000000   \n75%       0.000000     0.000000     0.000000      0.000000     0.000000   \nmax       1.000000     1.000000     1.000000      1.000000     1.000000   \n\n       ulcers_on_tongue  ...  pus_filled_pimples   blackheads     scurring  \\\ncount       4962.000000  ...         4962.000000  4962.000000  4962.000000   \nmean           0.021967  ...            0.021967     0.021967     0.021967   \nstd            0.146590  ...            0.146590     0.146590     0.146590   \nmin            0.000000  ...            0.000000     0.000000     0.000000   \n25%            0.000000  ...            0.000000     0.000000     0.000000   \n50%            0.000000  ...            0.000000     0.000000     0.000000   \n75%            0.000000  ...            0.000000     0.000000     0.000000   \nmax            1.000000  ...            1.000000     1.000000     1.000000   \n\n       skin_peeling  silver_like_dusting  small_dents_in_nails  \\\ncount   4962.000000          4962.000000           4962.000000   \nmean       0.023378             0.023176              0.023176   \nstd        0.151115             0.150478              0.150478   \nmin        0.000000             0.000000              0.000000   \n25%        0.000000             0.000000              0.000000   \n50%        0.000000             0.000000              0.000000   \n75%        0.000000             0.000000              0.000000   \nmax        1.000000             1.000000              1.000000   \n\n       inflammatory_nails      blister  red_sore_around_nose  \\\ncount         4962.000000  4962.000000           4962.000000   \nmean             0.023176     0.023176              0.023378   \nstd              0.150478     0.150478              0.151115   \nmin              0.000000     0.000000              0.000000   \n25%              0.000000     0.000000              0.000000   \n50%              0.000000     0.000000              0.000000   \n75%              0.000000     0.000000              0.000000   \nmax              1.000000     1.000000              1.000000   \n\n       yellow_crust_ooze  \ncount        4962.000000  \nmean            0.023176  \nstd             0.150478  \nmin             0.000000  \n25%             0.000000  \n50%             0.000000  \n75%             0.000000  \nmax             1.000000  \n\n[8 rows x 132 columns]",
            "text/html": "<div>\n<style scoped>\n    .dataframe tbody tr th:only-of-type {\n        vertical-align: middle;\n    }\n\n    .dataframe tbody tr th {\n        vertical-align: top;\n    }\n\n    .dataframe thead th {\n        text-align: right;\n    }\n</style>\n<table border=\"1\" class=\"dataframe\">\n  <thead>\n    <tr style=\"text-align: right;\">\n      <th></th>\n      <th>itching</th>\n      <th>skin_rash</th>\n      <th>nodal_skin_eruptions</th>\n      <th>continuous_sneezing</th>\n      <th>shivering</th>\n      <th>chills</th>\n      <th>joint_pain</th>\n      <th>stomach_pain</th>\n      <th>acidity</th>\n      <th>ulcers_on_tongue</th>\n      <th>...</th>\n      <th>pus_filled_pimples</th>\n      <th>blackheads</th>\n      <th>scurring</th>\n      <th>skin_peeling</th>\n      <th>silver_like_dusting</th>\n      <th>small_dents_in_nails</th>\n      <th>inflammatory_nails</th>\n      <th>blister</th>\n      <th>red_sore_around_nose</th>\n      <th>yellow_crust_ooze</th>\n    </tr>\n  </thead>\n  <tbody>\n    <tr>\n      <th>count</th>\n      <td>4962.000000</td>\n      <td>4962.000000</td>\n      <td>4962.000000</td>\n      <td>4962.000000</td>\n      <td>4962.000000</td>\n      <td>4962.000000</td>\n      <td>4962.000000</td>\n      <td>4962.000000</td>\n      <td>4962.000000</td>\n      <td>4962.000000</td>\n      <td>...</td>\n      <td>4962.000000</td>\n      <td>4962.000000</td>\n      <td>4962.000000</td>\n      <td>4962.000000</td>\n      <td>4962.000000</td>\n      <td>4962.000000</td>\n      <td>4962.000000</td>\n      <td>4962.000000</td>\n      <td>4962.000000</td>\n      <td>4962.000000</td>\n    </tr>\n    <tr>\n      <th>mean</th>\n      <td>0.138049</td>\n      <td>0.160016</td>\n      <td>0.021967</td>\n      <td>0.045143</td>\n      <td>0.021967</td>\n      <td>0.162233</td>\n      <td>0.139057</td>\n      <td>0.045143</td>\n      <td>0.045143</td>\n      <td>0.021967</td>\n      <td>...</td>\n      <td>0.021967</td>\n      <td>0.021967</td>\n      <td>0.021967</td>\n      <td>0.023378</td>\n      <td>0.023176</td>\n      <td>0.023176</td>\n      <td>0.023176</td>\n      <td>0.023176</td>\n      <td>0.023378</td>\n      <td>0.023176</td>\n    </tr>\n    <tr>\n      <th>std</th>\n      <td>0.344986</td>\n      <td>0.366658</td>\n      <td>0.146590</td>\n      <td>0.207639</td>\n      <td>0.146590</td>\n      <td>0.368702</td>\n      <td>0.346041</td>\n      <td>0.207639</td>\n      <td>0.207639</td>\n      <td>0.146590</td>\n      <td>...</td>\n      <td>0.146590</td>\n      <td>0.146590</td>\n      <td>0.146590</td>\n      <td>0.151115</td>\n      <td>0.150478</td>\n      <td>0.150478</td>\n      <td>0.150478</td>\n      <td>0.150478</td>\n      <td>0.151115</td>\n      <td>0.150478</td>\n    </tr>\n    <tr>\n      <th>min</th>\n      <td>0.000000</td>\n      <td>0.000000</td>\n      <td>0.000000</td>\n      <td>0.000000</td>\n      <td>0.000000</td>\n      <td>0.000000</td>\n      <td>0.000000</td>\n      <td>0.000000</td>\n      <td>0.000000</td>\n      <td>0.000000</td>\n      <td>...</td>\n      <td>0.000000</td>\n      <td>0.000000</td>\n      <td>0.000000</td>\n      <td>0.000000</td>\n      <td>0.000000</td>\n      <td>0.000000</td>\n      <td>0.000000</td>\n      <td>0.000000</td>\n      <td>0.000000</td>\n      <td>0.000000</td>\n    </tr>\n    <tr>\n      <th>25%</th>\n      <td>0.000000</td>\n      <td>0.000000</td>\n      <td>0.000000</td>\n      <td>0.000000</td>\n      <td>0.000000</td>\n      <td>0.000000</td>\n      <td>0.000000</td>\n      <td>0.000000</td>\n      <td>0.000000</td>\n      <td>0.000000</td>\n      <td>...</td>\n      <td>0.000000</td>\n      <td>0.000000</td>\n      <td>0.000000</td>\n      <td>0.000000</td>\n      <td>0.000000</td>\n      <td>0.000000</td>\n      <td>0.000000</td>\n      <td>0.000000</td>\n      <td>0.000000</td>\n      <td>0.000000</td>\n    </tr>\n    <tr>\n      <th>50%</th>\n      <td>0.000000</td>\n      <td>0.000000</td>\n      <td>0.000000</td>\n      <td>0.000000</td>\n      <td>0.000000</td>\n      <td>0.000000</td>\n      <td>0.000000</td>\n      <td>0.000000</td>\n      <td>0.000000</td>\n      <td>0.000000</td>\n      <td>...</td>\n      <td>0.000000</td>\n      <td>0.000000</td>\n      <td>0.000000</td>\n      <td>0.000000</td>\n      <td>0.000000</td>\n      <td>0.000000</td>\n      <td>0.000000</td>\n      <td>0.000000</td>\n      <td>0.000000</td>\n      <td>0.000000</td>\n    </tr>\n    <tr>\n      <th>75%</th>\n      <td>0.000000</td>\n      <td>0.000000</td>\n      <td>0.000000</td>\n      <td>0.000000</td>\n      <td>0.000000</td>\n      <td>0.000000</td>\n      <td>0.000000</td>\n      <td>0.000000</td>\n      <td>0.000000</td>\n      <td>0.000000</td>\n      <td>...</td>\n      <td>0.000000</td>\n      <td>0.000000</td>\n      <td>0.000000</td>\n      <td>0.000000</td>\n      <td>0.000000</td>\n      <td>0.000000</td>\n      <td>0.000000</td>\n      <td>0.000000</td>\n      <td>0.000000</td>\n      <td>0.000000</td>\n    </tr>\n    <tr>\n      <th>max</th>\n      <td>1.000000</td>\n      <td>1.000000</td>\n      <td>1.000000</td>\n      <td>1.000000</td>\n      <td>1.000000</td>\n      <td>1.000000</td>\n      <td>1.000000</td>\n      <td>1.000000</td>\n      <td>1.000000</td>\n      <td>1.000000</td>\n      <td>...</td>\n      <td>1.000000</td>\n      <td>1.000000</td>\n      <td>1.000000</td>\n      <td>1.000000</td>\n      <td>1.000000</td>\n      <td>1.000000</td>\n      <td>1.000000</td>\n      <td>1.000000</td>\n      <td>1.000000</td>\n      <td>1.000000</td>\n    </tr>\n  </tbody>\n</table>\n<p>8 rows × 132 columns</p>\n</div>"
          },
          "metadata": {}
        }
      ],
      "execution_count": 4
    },
    {
      "id": "32b34358-6d30-4f36-a834-0d9239f0eba3",
      "cell_type": "code",
      "source": "\ndf.info()\n     ",
      "metadata": {
        "trusted": true
      },
      "outputs": [
        {
          "name": "stdout",
          "output_type": "stream",
          "text": "<class 'pandas.core.frame.DataFrame'>\nRangeIndex: 4962 entries, 0 to 4961\nColumns: 133 entries, itching to prognosis\ndtypes: int64(132), object(1)\nmemory usage: 5.0+ MB\n"
        }
      ],
      "execution_count": 5
    },
    {
      "id": "b3d069e4-e221-43dd-95e1-70122ec43345",
      "cell_type": "code",
      "source": "df.shape",
      "metadata": {
        "trusted": true
      },
      "outputs": [
        {
          "execution_count": 6,
          "output_type": "execute_result",
          "data": {
            "text/plain": "(4962, 133)"
          },
          "metadata": {}
        }
      ],
      "execution_count": 6
    },
    {
      "id": "4dc68acf-89b2-455d-a7c4-5adf5ba0533d",
      "cell_type": "code",
      "source": "df.isna().any().values\n     ",
      "metadata": {
        "trusted": true
      },
      "outputs": [
        {
          "execution_count": 7,
          "output_type": "execute_result",
          "data": {
            "text/plain": "array([False, False, False, False, False, False, False, False, False,\n       False, False, False, False, False, False, False, False, False,\n       False, False, False, False, False, False, False, False, False,\n       False, False, False, False, False, False, False, False, False,\n       False, False, False, False, False, False, False, False, False,\n       False, False, False, False, False, False, False, False, False,\n       False, False, False, False, False, False, False, False, False,\n       False, False, False, False, False, False, False, False, False,\n       False, False, False, False, False, False, False, False, False,\n       False, False, False, False, False, False, False, False, False,\n       False, False, False, False, False, False, False, False, False,\n       False, False, False, False, False, False, False, False, False,\n       False, False, False, False, False, False, False, False, False,\n       False, False, False, False, False, False, False, False, False,\n       False, False, False, False, False, False, False])"
          },
          "metadata": {}
        }
      ],
      "execution_count": 7
    },
    {
      "id": "8eaa552f-fdce-47d9-afd3-10b65dce56d2",
      "cell_type": "code",
      "source": "\ndiseases=list(set(df['prognosis']))\ndiseases.sort()\nprint('Number of disease variants:',len(diseases))\nprint('Disease variants:',diseases)",
      "metadata": {
        "trusted": true
      },
      "outputs": [
        {
          "name": "stdout",
          "output_type": "stream",
          "text": "Number of disease variants: 41\nDisease variants: ['(vertigo) Paroymsal  Positional Vertigo', 'AIDS', 'Acne', 'Alcoholic hepatitis', 'Allergy', 'Arthritis', 'Bronchial Asthma', 'Cervical spondylosis', 'Chicken pox', 'Chronic cholestasis', 'Common Cold', 'Dengue', 'Diabetes ', 'Dimorphic hemmorhoids(piles)', 'Drug Reaction', 'Fungal infection', 'GERD', 'Gastroenteritis', 'Heart attack', 'Hepatitis B', 'Hepatitis C', 'Hepatitis D', 'Hepatitis E', 'Hypertension ', 'Hyperthyroidism', 'Hypoglycemia', 'Hypothyroidism', 'Impetigo', 'Jaundice', 'Malaria', 'Migraine', 'Osteoarthristis', 'Paralysis (brain hemorrhage)', 'Peptic ulcer diseae', 'Pneumonia', 'Psoriasis', 'Tuberculosis', 'Typhoid', 'Urinary tract infection', 'Varicose veins', 'hepatitis A']\n"
        }
      ],
      "execution_count": 8
    },
    {
      "id": "cb600b46-8c30-4508-b95d-88bbe091ea96",
      "cell_type": "code",
      "source": "\ndf['prognosis'].value_counts()",
      "metadata": {
        "trusted": true
      },
      "outputs": [
        {
          "execution_count": 9,
          "output_type": "execute_result",
          "data": {
            "text/plain": "prognosis\nFungal infection                           122\nDimorphic hemmorhoids(piles)               121\nChronic cholestasis                        121\nJaundice                                   121\nPeptic ulcer diseae                        121\nBronchial Asthma                           121\nArthritis                                  121\nAllergy                                    121\nHepatitis C                                121\nGastroenteritis                            121\nhepatitis A                                121\nHepatitis B                                121\nGERD                                       121\nHepatitis D                                121\nAlcoholic hepatitis                        121\nDiabetes                                   121\nTyphoid                                    121\nTuberculosis                               121\nHepatitis E                                121\nCommon Cold                                121\nDengue                                     121\nUrinary tract infection                    121\nImpetigo                                   121\nDrug Reaction                              121\nVaricose veins                             121\nOsteoarthristis                            121\nPsoriasis                                  121\nHypoglycemia                               121\nAIDS                                       121\nMalaria                                    121\nPneumonia                                  121\nParalysis (brain hemorrhage)               121\nHypothyroidism                             121\nHyperthyroidism                            121\nChicken pox                                121\nAcne                                       121\nHeart attack                               121\nCervical spondylosis                       121\nMigraine                                   121\n(vertigo) Paroymsal  Positional Vertigo    121\nHypertension                               121\nName: count, dtype: int64"
          },
          "metadata": {}
        }
      ],
      "execution_count": 9
    },
    {
      "id": "2fd099c2-97f7-4d7f-8d6b-933bd02bece7",
      "cell_type": "code",
      "source": "for col in df.columns:\n    if col =='prognosis':\n        continue\n    f = plt.figure()\n    f.set_figwidth(4)\n    f.set_figheight(3)    \n    sns.countplot(data = df , x = col)\n    plt.show()",
      "metadata": {
        "trusted": true
      },
      "outputs": [],
      "execution_count": null
    },
    {
      "id": "aba1a569-a70f-4a10-8a70-34e7e51c0c11",
      "cell_type": "code",
      "source": "X = df.drop('prognosis',axis =1)\ncorr = X.corr()\nplt.rcParams[\"figure.figsize\"] = (20,10)\nsns.heatmap(corr, square=True, annot=False, cmap=\"RdBu_r\")\nplt.title(\"Feature Correlation\")\nplt.tight_layout()\nplt.show()",
      "metadata": {
        "trusted": true
      },
      "outputs": [],
      "execution_count": null
    },
    {
      "id": "ccf896a2-7a65-4a79-b3d4-05197f4f9644",
      "cell_type": "code",
      "source": "encoder = LabelEncoder()\ndf[\"prognosis\"] = encoder.fit_transform(df[\"prognosis\"])\ndf.head()",
      "metadata": {
        "trusted": true
      },
      "outputs": [],
      "execution_count": null
    },
    {
      "id": "810b87df-00e1-4fdc-8da2-2c8c526009a5",
      "cell_type": "code",
      "source": "\nX_train, X_test, y_train, y_test = train_test_split(df.drop('prognosis', 1), df['prognosis'], test_size = .4, random_state=42,shuffle=True)",
      "metadata": {
        "trusted": true
      },
      "outputs": [],
      "execution_count": null
    },
    {
      "id": "cf1f2acb-1a06-4810-8233-2a29c58b00c4",
      "cell_type": "code",
      "source": "\nX_train.shape",
      "metadata": {
        "trusted": true
      },
      "outputs": [],
      "execution_count": null
    },
    {
      "id": "ba693529-eb37-4924-aa67-114b96bebe42",
      "cell_type": "code",
      "source": "\naccuracy_scores=dict()",
      "metadata": {
        "trusted": true
      },
      "outputs": [],
      "execution_count": null
    },
    {
      "id": "604ec09e-c27a-4b21-96fe-c73be7023174",
      "cell_type": "code",
      "source": "model=LogisticRegression(C=0.2,random_state=42, penalty='l2')\nmodel.fit(X_train,y_train)\npredTrain = model.predict(X_train)\npredTest = model.predict(X_test)\nprint(accuracy_score(y_train, predTrain)*100, accuracy_score(y_test, predTest)*100)\naccuracy_scores.update({'Log_reg':accuracy_score(y_test, predTest)*100})",
      "metadata": {
        "trusted": true
      },
      "outputs": [],
      "execution_count": null
    },
    {
      "id": "6f0e4cc2-8be0-4f98-9f9b-5d8d087db20f",
      "cell_type": "code",
      "source": "\ny_pred = model.predict(df.iloc[:,:-1])\ncm = confusion_matrix(df['prognosis'], y_pred)\nprint(cm)",
      "metadata": {
        "trusted": true
      },
      "outputs": [],
      "execution_count": null
    },
    {
      "id": "6e0c165a-c42a-483d-b362-5e08dd3b38ef",
      "cell_type": "code",
      "source": "\nprint(classification_report( df['prognosis'], y_pred))",
      "metadata": {
        "trusted": true
      },
      "outputs": [],
      "execution_count": null
    },
    {
      "id": "4228d4d1-9685-4d83-93be-f31aadb519fc",
      "cell_type": "code",
      "source": "\nmodel=DTC()\nmodel.fit(X_train,y_train)\npredTrain = model.predict(X_train)\npredTest = model.predict(X_test)\nprint(accuracy_score(y_train, predTrain)*100, accuracy_score(y_test, predTest)*100)\naccuracy_scores.update({'DTC':accuracy_score(y_test, predTest)*100})",
      "metadata": {
        "trusted": true
      },
      "outputs": [],
      "execution_count": null
    },
    {
      "id": "cce7c012-6a16-4b90-8b23-947506ea5b8f",
      "cell_type": "code",
      "source": "\nfrom sklearn import tree\ntext_representation = tree.export_text(model)\nprint(text_representation)",
      "metadata": {
        "trusted": true
      },
      "outputs": [],
      "execution_count": null
    },
    {
      "id": "7aeeaaf0-d902-4c21-88c9-285dcb2209a8",
      "cell_type": "code",
      "source": "y_pred = model.predict(df.iloc[:,:-1])\ncm = confusion_matrix(df['prognosis'], y_pred)\nprint(cm)\n     \n",
      "metadata": {
        "trusted": true
      },
      "outputs": [],
      "execution_count": null
    },
    {
      "id": "4178a311-82b5-4159-865b-0af3b21af7e8",
      "cell_type": "code",
      "source": "\nprint(classification_report( df['prognosis'], y_pred))",
      "metadata": {
        "trusted": true
      },
      "outputs": [],
      "execution_count": null
    },
    {
      "id": "cd6ef668-f632-4b38-b96c-02e10c4ae5c1",
      "cell_type": "code",
      "source": "\nmodel=RFC()\nmodel.fit(X_train,y_train)\npredTrain = model.predict(X_train)\npredTest = model.predict(X_test)\nprint(accuracy_score(y_train, predTrain)*100, accuracy_score(y_test, predTest)*100)\naccuracy_scores.update({'RFC':accuracy_score(y_test, predTest)*100})",
      "metadata": {
        "trusted": true
      },
      "outputs": [],
      "execution_count": null
    },
    {
      "id": "6970aab0-f76f-4ef5-8e59-1bd0eb435e99",
      "cell_type": "code",
      "source": "\ny_pred = model.predict(df.iloc[:,:-1])\ncm = confusion_matrix(df['prognosis'], y_pred)\nprint(cm)",
      "metadata": {
        "trusted": true
      },
      "outputs": [],
      "execution_count": null
    },
    {
      "id": "e1aad2aa-85a9-4ab6-9794-c3d5f2c1a048",
      "cell_type": "code",
      "source": "\nprint(classification_report( df['prognosis'], y_pred))",
      "metadata": {
        "trusted": true
      },
      "outputs": [],
      "execution_count": null
    },
    {
      "id": "17f59dec-bc58-4586-8611-00a0c5ab6c20",
      "cell_type": "code",
      "source": "model=SVC()\nmodel.fit(X_train,y_train)\npredTrain = model.predict(X_train)\npredTest = model.predict(X_test)\nprint(accuracy_score(y_train, predTrain)*100, accuracy_score(y_test, predTest)*100)\naccuracy_scores.update({'SVC':accuracy_score(y_test, predTest)*100})",
      "metadata": {
        "trusted": true
      },
      "outputs": [],
      "execution_count": null
    },
    {
      "id": "0a4aa52c-43eb-4862-b3fc-e560385de929",
      "cell_type": "code",
      "source": "\ny_pred = model.predict(df.iloc[:,:-1])\ncm = confusion_matrix(df['prognosis'], y_pred)\nprint(cm)\n     ",
      "metadata": {
        "trusted": true
      },
      "outputs": [],
      "execution_count": null
    },
    {
      "id": "f877c02b-f212-4bb5-9eea-eaee60531262",
      "cell_type": "code",
      "source": "\nmodel=GaussianNB()\nmodel.fit(X_train,y_train)\npredTrain = model.predict(X_train)\npredTest = model.predict(X_test)\nprint(accuracy_score(y_train, predTrain)*100, accuracy_score(y_test, predTest)*100)\naccuracy_scores.update({'Naive_Bayes':accuracy_score(y_test, predTest)*100})",
      "metadata": {
        "trusted": true
      },
      "outputs": [],
      "execution_count": null
    },
    {
      "id": "bc4bab9c-0893-4e8a-b534-560fd453d532",
      "cell_type": "code",
      "source": "\ny_pred = model.predict(df.iloc[:,:-1])\ncm = confusion_matrix(df['prognosis'], y_pred)\nprint(cm)",
      "metadata": {
        "trusted": true
      },
      "outputs": [],
      "execution_count": null
    },
    {
      "id": "f563a7a9-71f1-4f93-923c-19bb39f20825",
      "cell_type": "code",
      "source": "y_train_d = pd.get_dummies(y_train)",
      "metadata": {
        "trusted": true
      },
      "outputs": [],
      "execution_count": null
    },
    {
      "id": "3e5ffb1e-5758-46ae-a652-1b1ab015a1f1",
      "cell_type": "code",
      "source": "",
      "metadata": {
        "trusted": true
      },
      "outputs": [],
      "execution_count": null
    },
    {
      "id": "bab645fc-b989-4e2b-8f07-3ba8bedaa2ed",
      "cell_type": "code",
      "source": "",
      "metadata": {
        "trusted": true
      },
      "outputs": [],
      "execution_count": null
    }
  ]
}